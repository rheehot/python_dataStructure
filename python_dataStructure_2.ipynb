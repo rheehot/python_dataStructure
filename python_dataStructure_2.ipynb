{
  "cells": [
    {
      "cell_type": "markdown",
      "metadata": {
        "id": "view-in-github",
        "colab_type": "text"
      },
      "source": [
        "<a href=\"https://colab.research.google.com/github/sunyeon-Jeong/python_dataStructure/blob/main/python_dataStructure_2.ipynb\" target=\"_parent\"><img src=\"https://colab.research.google.com/assets/colab-badge.svg\" alt=\"Open In Colab\"/></a>"
      ]
    },
    {
      "cell_type": "markdown",
      "metadata": {
        "id": "_17Zhg4BXgzQ"
      },
      "source": [
        "# 선형리스트"
      ]
    },
    {
      "cell_type": "markdown",
      "metadata": {
        "id": "Q_jsQatEZHj0"
      },
      "source": [
        "## 1️⃣ 데이터가 5개인 선형리스트 생성"
      ]
    },
    {
      "cell_type": "code",
      "execution_count": 3,
      "metadata": {
        "id": "gJHLDQa3Xat-",
        "outputId": "a093dcb9-2d47-43b0-e664-ddfb503f0e5d",
        "colab": {
          "base_uri": "https://localhost:8080/"
        }
      },
      "outputs": [
        {
          "output_type": "stream",
          "name": "stdout",
          "text": [
            "['가을동화', '나의아저씨', '라바', '마틸다', '프렌즈']\n",
            "가을동화\n"
          ]
        }
      ],
      "source": [
        "#📍 선형리스트에 데이터 삽입\n",
        "media = [\"가을동화\", \"나의아저씨\", \"라바\", \"마틸다\", \"프렌즈\"]\n",
        "\n",
        "#📍 선형리스트 데이터 출력\n",
        "print(media)\n",
        "print(media[0])"
      ]
    },
    {
      "cell_type": "markdown",
      "source": [
        "## 2️⃣ 데이터삽입_맨끝에 insert"
      ],
      "metadata": {
        "id": "9otxcNTRD1yI"
      }
    },
    {
      "cell_type": "code",
      "source": [
        "#📍 1. 빈공간 확보하기\n",
        "media = [\"가을동화\", \"나의아저씨\", \"라바\", \"마틸다\", \"프렌즈\"]\n",
        "media.append(None) # 5번째 new 공간확보"
      ],
      "metadata": {
        "id": "g9ZqX4RbEB9I"
      },
      "execution_count": 5,
      "outputs": []
    },
    {
      "cell_type": "code",
      "source": [
        "#📍 2. 새로운데이터 삽입하기\n",
        "media[5] = \"히트맨\" # 공간 index 명시 -> 삽입할 데이터 작성\n",
        "print(media)"
      ],
      "metadata": {
        "colab": {
          "base_uri": "https://localhost:8080/"
        },
        "id": "HJ1sEjMdEOgC",
        "outputId": "ab0b8fe4-95a9-4254-c63a-f574f9819ad7"
      },
      "execution_count": 6,
      "outputs": [
        {
          "output_type": "stream",
          "name": "stdout",
          "text": [
            "['가을동화', '나의아저씨', '라바', '마틸다', '프렌즈', '히트맨']\n"
          ]
        }
      ]
    },
    {
      "cell_type": "markdown",
      "source": [
        "## 3️⃣ 데이터삽입_중간에 insert(4번째자리)"
      ],
      "metadata": {
        "id": "pU9X7hjZEaKy"
      }
    },
    {
      "cell_type": "code",
      "source": [
        "#📍 1. 빈공간 확보하기\n",
        "media = [\"가을동화\", \"나의아저씨\", \"라바\", \"마틸다\", \"프렌즈\", \"히트맨\"]\n",
        "media.append(None) # 맨 끝에 공간 생성\n",
        "print(media)"
      ],
      "metadata": {
        "colab": {
          "base_uri": "https://localhost:8080/"
        },
        "id": "pAU__ln5Ee76",
        "outputId": "840e4529-b425-4b29-e16f-22913be516a5"
      },
      "execution_count": 7,
      "outputs": [
        {
          "output_type": "stream",
          "name": "stdout",
          "text": [
            "['가을동화', '나의아저씨', '라바', '마틸다', '프렌즈', '히트맨', None]\n"
          ]
        }
      ]
    },
    {
      "cell_type": "code",
      "source": [
        "#📍 2. 기존데이터 뒤로밀기\n",
        "media[6] = media[5] # None자리 -> \"히트맨\"으로 변경됨\n",
        "media[5] = None # 5번째자리 None으로 덮어씀\n",
        "print(media)\n",
        "\n",
        "media[5] = media[4] # None자리 -> \"프렌즈\"로 변경\n",
        "media[4] = None # 4번째자리 None으로 덮어씀\n",
        "print(media)"
      ],
      "metadata": {
        "colab": {
          "base_uri": "https://localhost:8080/"
        },
        "id": "RgbNsZIgEnvX",
        "outputId": "d860a2e6-cf43-4d87-ba5c-6cdc71fa45e6"
      },
      "execution_count": 10,
      "outputs": [
        {
          "output_type": "stream",
          "name": "stdout",
          "text": [
            "['가을동화', '나의아저씨', '라바', '마틸다', '프렌즈', None, None]\n",
            "['가을동화', '나의아저씨', '라바', '마틸다', None, '프렌즈', None]\n"
          ]
        }
      ]
    },
    {
      "cell_type": "code",
      "source": [
        "#📍 3. 새로운데이터 삽입하기\n",
        "media[4] = \"사도\"\n",
        "print(media)"
      ],
      "metadata": {
        "colab": {
          "base_uri": "https://localhost:8080/"
        },
        "id": "RiOvD2SxEv6t",
        "outputId": "b458fe87-7e8e-473d-ec21-a0094e90c9e8"
      },
      "execution_count": 11,
      "outputs": [
        {
          "output_type": "stream",
          "name": "stdout",
          "text": [
            "['가을동화', '나의아저씨', '라바', '마틸다', '사도', '프렌즈', None]\n"
          ]
        }
      ]
    },
    {
      "cell_type": "markdown",
      "source": [
        "## 4️⃣ 데이터삭제_중간에 delete(5번째자리)"
      ],
      "metadata": {
        "id": "HY_NB7BUFB66"
      }
    },
    {
      "cell_type": "code",
      "source": [
        "#📍 1. 해당데이터 삭제하기\n",
        "media = [\"가을동화\", \"나의아저씨\", \"라바\", \"마틸다\", \"사도\", \"프렌즈\", \"히트맨\"]\n",
        "media[5] = None # 지울데이터 -> None으로 덮어씀\n",
        "print(media)"
      ],
      "metadata": {
        "colab": {
          "base_uri": "https://localhost:8080/"
        },
        "id": "wbHWN5eQFECA",
        "outputId": "70868d45-6ac4-445b-b0f0-25f1d16469aa"
      },
      "execution_count": 14,
      "outputs": [
        {
          "output_type": "stream",
          "name": "stdout",
          "text": [
            "['가을동화', '나의아저씨', '라바', '마틸다', '사도', None, '히트맨']\n"
          ]
        }
      ]
    },
    {
      "cell_type": "code",
      "source": [
        "#📍 2. 기존데이터 앞으로밀기\n",
        "media[5] = media[6] # None자리 -> \"히트맨\"으로 변경\n",
        "media[6] = None # 6번째자리 None으로 덮어씀\n",
        "print(media)"
      ],
      "metadata": {
        "colab": {
          "base_uri": "https://localhost:8080/"
        },
        "id": "PLaOoBFGFsiA",
        "outputId": "d2031f73-c5ae-4ceb-86bc-22e919f79719"
      },
      "execution_count": 15,
      "outputs": [
        {
          "output_type": "stream",
          "name": "stdout",
          "text": [
            "['가을동화', '나의아저씨', '라바', '마틸다', '사도', '히트맨', None]\n"
          ]
        }
      ]
    },
    {
      "cell_type": "code",
      "source": [
        "#📍 3. 빈공간 삭제하기\n",
        "del(media[6]) # 마지막 None 삭제\n",
        "print(media)"
      ],
      "metadata": {
        "colab": {
          "base_uri": "https://localhost:8080/"
        },
        "id": "M2GCOS14F1Fq",
        "outputId": "c37fa849-bb31-416f-fe09-e64ceca53b4c"
      },
      "execution_count": 16,
      "outputs": [
        {
          "output_type": "stream",
          "name": "stdout",
          "text": [
            "['가을동화', '나의아저씨', '라바', '마틸다', '사도', '히트맨']\n"
          ]
        }
      ]
    },
    {
      "cell_type": "markdown",
      "source": [
        "## 5️⃣ 데이터삽입_함수구현"
      ],
      "metadata": {
        "id": "PGp_TH8uGElD"
      }
    },
    {
      "cell_type": "code",
      "execution_count": 21,
      "metadata": {
        "id": "xPjokSYb42aG",
        "outputId": "99357ee7-5d80-4982-c969-5af6ecfa134e",
        "colab": {
          "base_uri": "https://localhost:8080/"
        }
      },
      "outputs": [
        {
          "output_type": "stream",
          "name": "stdout",
          "text": [
            "[]\n",
            "['뽀로로', '라바']\n"
          ]
        }
      ],
      "source": [
        "media = []\n",
        "\n",
        "def insert_data(position, media_name):\n",
        "    \n",
        "    # 음수 or 리스트길이보다 큰 경우 검열\n",
        "    if position < 0 or position > len(media): \n",
        "        print(\"데이터 삽입 위치를 벗어남\")\n",
        "        return # 함수종료\n",
        "\n",
        "    media.append(None) # 공간 확보\n",
        "    mLen = len(media) # 리스트 현재길이\n",
        "\n",
        "    for i in range(mLen-1, position, -1): # (이상, 미만, 증감)\n",
        "        # 마지막자리 -> 마지막-1자리 값 씌움\n",
        "        media[i] = media[i-1]\n",
        "        # 마지막-1자리 None값\n",
        "        media[i-1] = None\n",
        "\n",
        "    # 지정위치 -> 미디어추가\n",
        "    media[position] = media_name\n",
        "\n",
        "print(media)\n",
        "insert_data(0,\"라바\")\n",
        "insert_data(0,\"뽀로로\")\n",
        "print(media)"
      ]
    },
    {
      "cell_type": "markdown",
      "source": [
        "## 6️⃣ 데이터삭제_함수구현"
      ],
      "metadata": {
        "id": "J-MPxtltHt4I"
      }
    },
    {
      "cell_type": "code",
      "execution_count": 22,
      "metadata": {
        "id": "NJOVYhtY42aL",
        "outputId": "1449632e-d606-4d56-a4be-1a90d0f40d1a",
        "colab": {
          "base_uri": "https://localhost:8080/"
        }
      },
      "outputs": [
        {
          "output_type": "stream",
          "name": "stdout",
          "text": [
            "['라바']\n"
          ]
        }
      ],
      "source": [
        "def del_data(position):\n",
        "    if position < 0 or position >= len(media):\n",
        "        print(\"데이터 삽입 위치를 벗어남\")\n",
        "        return\n",
        "\n",
        "    mLen = len(media) # 리스트 현재길이\n",
        "    media[position] = None # 데이터삭제\n",
        "\n",
        "    for i in range(position+1, mLen):\n",
        "        media[i-1] = media[i]\n",
        "        media[i] = None\n",
        "\n",
        "    # 리스트 마지막 공간 삭제\n",
        "    del(media[mLen-1])\n",
        "\n",
        "del_data(0)\n",
        "print(media)"
      ]
    }
  ],
  "metadata": {
    "colab": {
      "provenance": [],
      "include_colab_link": true
    },
    "kernelspec": {
      "display_name": "Python 3",
      "name": "python3"
    },
    "language_info": {
      "codemirror_mode": {
        "name": "ipython",
        "version": 3
      },
      "file_extension": ".py",
      "mimetype": "text/x-python",
      "name": "python",
      "nbconvert_exporter": "python",
      "pygments_lexer": "ipython3",
      "version": "3.8.8"
    }
  },
  "nbformat": 4,
  "nbformat_minor": 0
}