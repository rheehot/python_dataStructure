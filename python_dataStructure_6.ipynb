{
  "cells": [
    {
      "cell_type": "markdown",
      "metadata": {
        "id": "view-in-github",
        "colab_type": "text"
      },
      "source": [
        "<a href=\"https://colab.research.google.com/github/sunyeon-Jeong/python_dataStructure/blob/main/python_dataStructure_6.ipynb\" target=\"_parent\"><img src=\"https://colab.research.google.com/assets/colab-badge.svg\" alt=\"Open In Colab\"/></a>"
      ]
    },
    {
      "cell_type": "markdown",
      "metadata": {
        "id": "_17Zhg4BXgzQ"
      },
      "source": [
        "# 큐(Queue)"
      ]
    },
    {
      "cell_type": "markdown",
      "source": [
        "## 1️⃣ 큐 생성"
      ],
      "metadata": {
        "id": "mDhsV_bR4GUu"
      }
    },
    {
      "cell_type": "code",
      "source": [
        "queue = [None, None, None] # 미리공간지정\n",
        "front = rear = -1"
      ],
      "metadata": {
        "id": "kFrsm0Zb4MO1"
      },
      "execution_count": 5,
      "outputs": []
    },
    {
      "cell_type": "markdown",
      "source": [
        "## 2️⃣ enQueue"
      ],
      "metadata": {
        "id": "3Sh_7frC4XMr"
      }
    },
    {
      "cell_type": "code",
      "source": [
        "#📍 첫번째데이터\n",
        "rear += 1 # rear 위치 +1칸 이동\n",
        "queue[rear] = 'python'\n",
        "\n",
        "#📍 두번째데이터\n",
        "rear += 1\n",
        "queue[rear] = 'java'\n",
        "\n",
        "#📍 데이터출력\n",
        "for i in range(0, len(queue), 1):\n",
        "    print(queue[i], end = ' ')"
      ],
      "metadata": {
        "colab": {
          "base_uri": "https://localhost:8080/"
        },
        "id": "rwOprHoC4ajs",
        "outputId": "381fd08b-85e2-4875-8253-97cabe4e9a2a"
      },
      "execution_count": 6,
      "outputs": [
        {
          "output_type": "stream",
          "name": "stdout",
          "text": [
            "python java None "
          ]
        }
      ]
    },
    {
      "cell_type": "markdown",
      "source": [
        "## 3️⃣ deQueue"
      ],
      "metadata": {
        "id": "t1gflM244o73"
      }
    },
    {
      "cell_type": "code",
      "source": [
        "front += 1\n",
        "data = queue[front] # queue[0]\n",
        "queue[front] = None\n",
        "print(data)\n",
        "\n",
        "for i in range(0, len(queue), 1):\n",
        "    print(queue[i], end = ' ')"
      ],
      "metadata": {
        "colab": {
          "base_uri": "https://localhost:8080/"
        },
        "id": "Vaa5f0zL4rwl",
        "outputId": "6c8ca2a2-4b21-41e4-8eed-f9129efb3214"
      },
      "execution_count": 7,
      "outputs": [
        {
          "output_type": "stream",
          "name": "stdout",
          "text": [
            "python\n",
            "None java None "
          ]
        }
      ]
    },
    {
      "cell_type": "code",
      "source": [
        "front += 1\n",
        "data = queue[front] # queue[1]\n",
        "queue[front] = None\n",
        "print(data)\n",
        "\n",
        "for i in range(0, len(queue), 1):\n",
        "    print(queue[i], end = ' ')"
      ],
      "metadata": {
        "colab": {
          "base_uri": "https://localhost:8080/"
        },
        "id": "sX5jvYOi5LlV",
        "outputId": "1db7dcc3-cbbe-4f43-8c6f-4bddd9e38d34"
      },
      "execution_count": 8,
      "outputs": [
        {
          "output_type": "stream",
          "name": "stdout",
          "text": [
            "java\n",
            "None None None "
          ]
        }
      ]
    },
    {
      "cell_type": "markdown",
      "source": [
        "## 4️⃣ 큐 함수구현 (일반큐)"
      ],
      "metadata": {
        "id": "Gx-Hwhf45YlB"
      }
    },
    {
      "cell_type": "code",
      "source": [
        "#📍 큐가 꽉찼는지 확인하는 함수\n",
        "def isQueueFull():\n",
        "\tglobal SIZE, queue, front, rear\n",
        "\n",
        "\tif (rear == SIZE-1):\n",
        "\t\treturn True # 꽉참\n",
        "\telse:\n",
        "\t\treturn False"
      ],
      "metadata": {
        "id": "JExehoW55eGo"
      },
      "execution_count": 1,
      "outputs": []
    },
    {
      "cell_type": "code",
      "source": [
        "#📍 데이터넣는 enQueue 함수\n",
        "def enQueue(data):\n",
        "\tglobal SIZE, queue, front, rear\n",
        "\n",
        "\tif (isQueueFull()):\n",
        "\t\tprint(\"큐가 꽉 찼습니다.\")\n",
        "\t\treturn\n",
        "        \n",
        "\trear += 1\n",
        "\tqueue[rear] = data"
      ],
      "metadata": {
        "id": "H_8Pd18-5tY2"
      },
      "execution_count": 2,
      "outputs": []
    },
    {
      "cell_type": "code",
      "source": [
        "#📍 큐가 비었는지 확인하는 함수\n",
        "def isQueueEmpty() :\n",
        "\tglobal SIZE, queue, front, rear\n",
        "\n",
        "\tif (front == rear) :\n",
        "\t\treturn True # 비었음\n",
        "\telse :\n",
        "\t\treturn False"
      ],
      "metadata": {
        "id": "591Ae_DJ58xQ"
      },
      "execution_count": 3,
      "outputs": []
    },
    {
      "cell_type": "code",
      "source": [
        "#📍 데이터빼는 deQueue 함수\n",
        "def deQueue() :\n",
        "\tglobal SIZE, queue, front, rear\n",
        "\n",
        "\tif (isQueueEmpty()) :\n",
        "\t\tprint(\"큐가 비었습니다.\")\n",
        "\t\treturn None\n",
        "\n",
        "\tfront += 1\n",
        "\tdata = queue[front]\n",
        "\tqueue[front] = None\n",
        "\treturn data"
      ],
      "metadata": {
        "id": "ylIGpRzB6HR9"
      },
      "execution_count": 5,
      "outputs": []
    },
    {
      "cell_type": "code",
      "source": [
        "#📍 큐 데이터 출력하는 함수\n",
        "def checkQueue():\n",
        "    for i in range(0, len(queue), 1):\n",
        "        print(queue[i], end = ' ')"
      ],
      "metadata": {
        "id": "dE8mV-o29Q7F"
      },
      "execution_count": 6,
      "outputs": []
    },
    {
      "cell_type": "code",
      "source": [
        "#📍 peek함수\n",
        "def peek():\n",
        "    global SIZE, queue, front, rear\n",
        "\n",
        "    if (isQueueEmpty()):\n",
        "        print(\"큐가 비었습니다.\")\n",
        "        return None\n",
        "\n",
        "    return queue[(front + 1) % SIZE]"
      ],
      "metadata": {
        "id": "iccNr8GERS9F"
      },
      "execution_count": 7,
      "outputs": []
    },
    {
      "cell_type": "markdown",
      "source": [
        "## 5️⃣ 큐 함수사용 (일반큐)"
      ],
      "metadata": {
        "id": "w2hp6lI5SqmY"
      }
    },
    {
      "cell_type": "code",
      "source": [
        "SIZE = 5\n",
        "queue = [None for _ in range(SIZE)] # size만큼 공간확보\n",
        "\n",
        "front = rear = -1 # 초기값 셋팅\n",
        "\n",
        "#📍 큐 데이터삽입\n",
        "enQueue(\"banana\")\n",
        "enQueue(\"orange\")\n",
        "enQueue(\"apple\")\n",
        "enQueue(\"melon\")\n",
        "enQueue(\"tomato\")"
      ],
      "metadata": {
        "id": "mXRFbh8gSzSS"
      },
      "execution_count": 9,
      "outputs": []
    },
    {
      "cell_type": "code",
      "source": [
        "#📍 큐 데이터 출력\n",
        "checkQueue()"
      ],
      "metadata": {
        "colab": {
          "base_uri": "https://localhost:8080/"
        },
        "id": "GS7qa_GqTWKo",
        "outputId": "02fc50e1-90e1-437b-c148-d1f2f5787d13"
      },
      "execution_count": 10,
      "outputs": [
        {
          "output_type": "stream",
          "name": "stdout",
          "text": [
            "banana orange apple melon tomato "
          ]
        }
      ]
    },
    {
      "cell_type": "code",
      "source": [
        "#📍 큐 데이터추가삽입 (용량 full 예외처리)\n",
        "enQueue(\"water_melon\")"
      ],
      "metadata": {
        "colab": {
          "base_uri": "https://localhost:8080/"
        },
        "id": "OfVrHaw7Ta__",
        "outputId": "b4d8fb1b-2226-4679-efc2-e4c550962e23"
      },
      "execution_count": 11,
      "outputs": [
        {
          "output_type": "stream",
          "name": "stdout",
          "text": [
            "큐가 꽉 찼습니다.\n"
          ]
        }
      ]
    },
    {
      "cell_type": "code",
      "source": [
        "#📍 큐 데이터삭제\n",
        "deQueue()\n",
        "checkQueue()"
      ],
      "metadata": {
        "colab": {
          "base_uri": "https://localhost:8080/"
        },
        "id": "yyvkbog0ToVj",
        "outputId": "5b5621c5-9e4a-4b7f-cc54-c34f43973423"
      },
      "execution_count": 12,
      "outputs": [
        {
          "output_type": "stream",
          "name": "stdout",
          "text": [
            "None orange apple melon tomato "
          ]
        }
      ]
    },
    {
      "cell_type": "code",
      "source": [
        "#📍 큐 데이터삭제\n",
        "deQueue()\n",
        "checkQueue()"
      ],
      "metadata": {
        "colab": {
          "base_uri": "https://localhost:8080/"
        },
        "id": "q8N9XuO7Tznq",
        "outputId": "36c88bfc-c158-47be-b24a-6338af86472f"
      },
      "execution_count": 13,
      "outputs": [
        {
          "output_type": "stream",
          "name": "stdout",
          "text": [
            "None None apple melon tomato "
          ]
        }
      ]
    },
    {
      "cell_type": "code",
      "source": [
        "#📍 큐 데이터삭제\n",
        "deQueue()\n",
        "checkQueue()"
      ],
      "metadata": {
        "colab": {
          "base_uri": "https://localhost:8080/"
        },
        "id": "1BbU7HisT3JJ",
        "outputId": "ed86e98b-1b3a-47ab-a27c-ce503d25d5f8"
      },
      "execution_count": 14,
      "outputs": [
        {
          "output_type": "stream",
          "name": "stdout",
          "text": [
            "None None None melon tomato "
          ]
        }
      ]
    },
    {
      "cell_type": "code",
      "source": [
        "#📍 큐 데이터추가삽입 (데이터 삭제해도 일반큐는 한번 용량 다 차면 추가 불가)\n",
        "enQueue(\"mango\")"
      ],
      "metadata": {
        "colab": {
          "base_uri": "https://localhost:8080/"
        },
        "id": "rqLAJ8tbT6df",
        "outputId": "7ae2e336-bea7-4eba-ceb1-a04ef3c9bd5c"
      },
      "execution_count": 15,
      "outputs": [
        {
          "output_type": "stream",
          "name": "stdout",
          "text": [
            "큐가 꽉 찼습니다.\n"
          ]
        }
      ]
    },
    {
      "cell_type": "markdown",
      "source": [
        "## 6️⃣ 큐 함수구현 (원형큐)"
      ],
      "metadata": {
        "id": "ZnTF3ct1UeYL"
      }
    },
    {
      "cell_type": "markdown",
      "metadata": {
        "id": "9wDx0VZt1b8G"
      },
      "source": [
        "![circle](https://github.com/ykkim77/python_practice_7th/blob/main/images/circle.jpg?raw=1)"
      ]
    },
    {
      "cell_type": "code",
      "source": [
        "#📍 원형큐 다 찼는지 확인하는 함수\n",
        "def isQueueFull():\n",
        "    global SIZE, queue, front, rear\n",
        "\n",
        "    if ((rear + 1) % SIZE == front): # rear가 마지막칸에 있는상태\n",
        "        return True\n",
        "    else:\n",
        "        return False"
      ],
      "metadata": {
        "id": "VU6UTV0DVLpo"
      },
      "execution_count": 16,
      "outputs": []
    },
    {
      "cell_type": "code",
      "source": [
        "#📍 원형큐 데이터넣는 enQueue 함수\n",
        "def enQueue(data):\n",
        "    global SIZE, queue, front, rear\n",
        "    \n",
        "    if (isQueueFull()):\n",
        "        print(\"큐가 꽉 찼습니다.\")\n",
        "        return\n",
        "    \n",
        "    rear = (rear + 1) % SIZE # rear 한칸 옮긴 후\n",
        "    queue[rear] = data"
      ],
      "metadata": {
        "id": "MGL52bxNV1bP"
      },
      "execution_count": 17,
      "outputs": []
    },
    {
      "cell_type": "code",
      "source": [
        "#📍 원형큐 데이터빼는 deQueue 함수\n",
        "def deQueue():\n",
        "    global SIZE, queue, front, rear\n",
        "\n",
        "    if (isQueueEmpty()):\n",
        "        print(\"큐가 비었습니다.\")\n",
        "        return None\n",
        "    \n",
        "    front = (front + 1) % SIZE\n",
        "    data = queue[front]\n",
        "\n",
        "    queue[front] = None\n",
        "    return data"
      ],
      "metadata": {
        "id": "BiQYdHeeWVk-"
      },
      "execution_count": 19,
      "outputs": []
    },
    {
      "cell_type": "markdown",
      "source": [
        "## 7️⃣ 큐 함수사용 (원형큐)"
      ],
      "metadata": {
        "id": "JvjXQC3rW6j1"
      }
    },
    {
      "cell_type": "code",
      "source": [
        "SIZE = 5\n",
        "queue = [None for _ in range(SIZE)] # size만큼 공간확보\n",
        "\n",
        "front = rear = 0 # 초기값 셋팅\n",
        "\n",
        "#📍 큐 데이터삽입\n",
        "enQueue(\"banana\")\n",
        "enQueue(\"orange\")\n",
        "enQueue(\"apple\")\n",
        "enQueue(\"melon\")"
      ],
      "metadata": {
        "id": "rcHMWdsjWmHA"
      },
      "execution_count": 26,
      "outputs": []
    },
    {
      "cell_type": "code",
      "source": [
        "#📍 큐 데이터 출력\n",
        "checkQueue()"
      ],
      "metadata": {
        "colab": {
          "base_uri": "https://localhost:8080/"
        },
        "id": "jMuM5VguXO0z",
        "outputId": "e1d7593f-54c9-4c85-f00d-2185b36bf2fa"
      },
      "execution_count": 27,
      "outputs": [
        {
          "output_type": "stream",
          "name": "stdout",
          "text": [
            "None banana orange apple melon "
          ]
        }
      ]
    },
    {
      "cell_type": "code",
      "source": [
        "#📍 큐 데이터추가삽입\n",
        "enQueue(\"water_melon\")"
      ],
      "metadata": {
        "colab": {
          "base_uri": "https://localhost:8080/"
        },
        "id": "ePpt5cqHXSJX",
        "outputId": "e0152ef1-d557-4d95-b363-f1d3c867358a"
      },
      "execution_count": 28,
      "outputs": [
        {
          "output_type": "stream",
          "name": "stdout",
          "text": [
            "큐가 꽉 찼습니다.\n"
          ]
        }
      ]
    },
    {
      "cell_type": "code",
      "source": [
        "#📍 큐 데이터삭제\n",
        "print(deQueue())\n",
        "checkQueue()"
      ],
      "metadata": {
        "colab": {
          "base_uri": "https://localhost:8080/"
        },
        "id": "om6fUDA0Xcdy",
        "outputId": "64743ad6-fe2b-4b22-84d3-7d9ca1a110ee"
      },
      "execution_count": 29,
      "outputs": [
        {
          "output_type": "stream",
          "name": "stdout",
          "text": [
            "banana\n",
            "None None orange apple melon "
          ]
        }
      ]
    },
    {
      "cell_type": "code",
      "source": [
        "#📍 큐 데이터삭제\n",
        "print(deQueue())\n",
        "checkQueue()"
      ],
      "metadata": {
        "colab": {
          "base_uri": "https://localhost:8080/"
        },
        "id": "ycFoJcGaXpWU",
        "outputId": "0da31bac-654b-4341-89c2-c20e9956ed1c"
      },
      "execution_count": 30,
      "outputs": [
        {
          "output_type": "stream",
          "name": "stdout",
          "text": [
            "orange\n",
            "None None None apple melon "
          ]
        }
      ]
    },
    {
      "cell_type": "code",
      "source": [
        "#📍 큐 데이터추가삽입 (원형은 앞 빈자리부터 다시 채우기 가능)\n",
        "enQueue(\"orange\")"
      ],
      "metadata": {
        "id": "QMyASoyqXt3_"
      },
      "execution_count": 31,
      "outputs": []
    },
    {
      "cell_type": "code",
      "source": [
        "#📍 큐 데이터 출력\n",
        "checkQueue()"
      ],
      "metadata": {
        "colab": {
          "base_uri": "https://localhost:8080/"
        },
        "id": "DU10MzX9X03N",
        "outputId": "00c9f2dc-2c74-4f50-a11f-19ac378e10af"
      },
      "execution_count": 32,
      "outputs": [
        {
          "output_type": "stream",
          "name": "stdout",
          "text": [
            "orange None None apple melon "
          ]
        }
      ]
    },
    {
      "cell_type": "code",
      "source": [
        "#📍 큐 데이터추가삽입 (원형은 앞 빈자리부터 다시 채우기 가능)\n",
        "enQueue(\"mango\")\n",
        "checkQueue()"
      ],
      "metadata": {
        "colab": {
          "base_uri": "https://localhost:8080/"
        },
        "id": "VNbAAgXGX6bq",
        "outputId": "00a0f697-ff46-4297-c65c-b195fc8e58f7"
      },
      "execution_count": 33,
      "outputs": [
        {
          "output_type": "stream",
          "name": "stdout",
          "text": [
            "orange mango None apple melon "
          ]
        }
      ]
    }
  ],
  "metadata": {
    "colab": {
      "provenance": [],
      "include_colab_link": true
    },
    "kernelspec": {
      "display_name": "Python 3",
      "name": "python3"
    },
    "language_info": {
      "codemirror_mode": {
        "name": "ipython",
        "version": 3
      },
      "file_extension": ".py",
      "mimetype": "text/x-python",
      "name": "python",
      "nbconvert_exporter": "python",
      "pygments_lexer": "ipython3",
      "version": "3.9.4"
    }
  },
  "nbformat": 4,
  "nbformat_minor": 0
}