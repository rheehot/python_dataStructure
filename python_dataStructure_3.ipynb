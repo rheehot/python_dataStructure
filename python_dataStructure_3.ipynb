{
  "cells": [
    {
      "cell_type": "markdown",
      "metadata": {
        "id": "view-in-github",
        "colab_type": "text"
      },
      "source": [
        "<a href=\"https://colab.research.google.com/github/sunyeon-Jeong/python_dataStructure/blob/main/python_dataStructure_3.ipynb\" target=\"_parent\"><img src=\"https://colab.research.google.com/assets/colab-badge.svg\" alt=\"Open In Colab\"/></a>"
      ]
    },
    {
      "cell_type": "markdown",
      "metadata": {
        "id": "_17Zhg4BXgzQ"
      },
      "source": [
        "# 단순연결리스트"
      ]
    },
    {
      "cell_type": "markdown",
      "metadata": {
        "id": "ml_WIVw9Lgjf"
      },
      "source": [
        "## 1️⃣ 단순연결리스트 노드정의"
      ]
    },
    {
      "cell_type": "code",
      "execution_count": 1,
      "metadata": {
        "id": "gJHLDQa3Xat-"
      },
      "outputs": [],
      "source": [
        "class Node(): # Node 데이터형 정의 -> class 사용\n",
        "\tdef __init__(self): # class 생성자\n",
        "\t\tself.data = None # 데이터공간\n",
        "\t\tself.link = None # 링크공간"
      ]
    },
    {
      "cell_type": "code",
      "source": [
        "#📍 1. 서울 노드정의\n",
        "node1 = Node() # 객체생성\n",
        "node1.data = \"서울\" # 생성자값주입"
      ],
      "metadata": {
        "id": "CWA-YCpTuYvv"
      },
      "execution_count": 2,
      "outputs": []
    },
    {
      "cell_type": "code",
      "source": [
        "#📍 2. 대구 노드정의\n",
        "node2 = Node() # 객체생성\n",
        "node2.data = \"대구\" # 생성자값주입\n",
        "node1.link = node2 # node1 링크 연결"
      ],
      "metadata": {
        "id": "pUtSrT5YujSY"
      },
      "execution_count": 3,
      "outputs": []
    },
    {
      "cell_type": "code",
      "source": [
        "#📍 3. 부산 노드정의\n",
        "node3 = Node() # 객체생성\n",
        "node3.data = \"부산\" # 생성자값주입\n",
        "node2.link = node3 # node2 링크 연결"
      ],
      "metadata": {
        "id": "TrZJkSaBurG1"
      },
      "execution_count": 4,
      "outputs": []
    },
    {
      "cell_type": "code",
      "source": [
        "#📍 4. 단순연결리스트 출력\n",
        "# Link.link•••로 데이터 뽑아냄\n",
        "print(node1.data, end = '')\n",
        "print(node1.link.data, end = '')\n",
        "print(node1.link.link.data, end = '')"
      ],
      "metadata": {
        "colab": {
          "base_uri": "https://localhost:8080/"
        },
        "id": "ZfzAGizAuzUQ",
        "outputId": "7155f1cc-9717-4e3b-a7d1-d7540c67ace4"
      },
      "execution_count": 5,
      "outputs": [
        {
          "output_type": "stream",
          "name": "stdout",
          "text": [
            "서울대구부산"
          ]
        }
      ]
    },
    {
      "cell_type": "markdown",
      "source": [
        "## 2️⃣ 단순연결리스트 탐색함수"
      ],
      "metadata": {
        "id": "dYdOu97-vS-f"
      }
    },
    {
      "cell_type": "code",
      "execution_count": 7,
      "metadata": {
        "id": "J21RItedLgjl",
        "outputId": "10424935-13ac-4a1d-ebf2-21684897faa3",
        "colab": {
          "base_uri": "https://localhost:8080/"
        }
      },
      "outputs": [
        {
          "output_type": "stream",
          "name": "stdout",
          "text": [
            "서울대구부산"
          ]
        }
      ],
      "source": [
        "#📍 단순연결리스트 탐색함수\n",
        "current = node1 # 첫번째노드 -> 현재노드로 지정\n",
        "print(current.data, end = '')\n",
        "\n",
        "# current 링크가 없을때까지 반복\n",
        "while current.link != None:\n",
        "    # 현재노드의 다음노드 -> current로 지정\n",
        "    current = current.link\n",
        "    print(current.data, end = '')"
      ]
    },
    {
      "cell_type": "markdown",
      "source": [
        "## 3️⃣ 단순연결리스트 데이터삽입(중간)"
      ],
      "metadata": {
        "id": "QAwIAJtLvoZG"
      }
    },
    {
      "cell_type": "code",
      "execution_count": 8,
      "metadata": {
        "id": "tEGvBaEKLgjl"
      },
      "outputs": [],
      "source": [
        "head = node1\n",
        "current = head # current 제일 처음부터 시작\n",
        "\n",
        "while current.link != None: # 마지막노드까지\n",
        "    pre = current # pre노드 -> 한칸씩이동\n",
        "    current = current.link # current노드 -> 한칸씩이동\n",
        "\n",
        "    if current.data == '부산':\n",
        "        node = Node() # 새로운노드 생성\n",
        "        node.data = '포항' # 새로운노드 생성자주입\n",
        "\n",
        "        # 새로운 노드 연결\n",
        "        node.link = current\n",
        "        pre.link = node\n"
      ]
    },
    {
      "cell_type": "code",
      "execution_count": 9,
      "metadata": {
        "id": "8SULEc5PLgjm",
        "outputId": "3018cb1c-814b-4744-940d-c896f4098d1c",
        "colab": {
          "base_uri": "https://localhost:8080/"
        }
      },
      "outputs": [
        {
          "output_type": "stream",
          "name": "stdout",
          "text": [
            "서울 대구 포항 부산 "
          ]
        }
      ],
      "source": [
        "current = head\n",
        "print(current.data, end = ' ')\n",
        "while current.link != None:\n",
        "    current = current.link\n",
        "    print(current.data, end= ' ')"
      ]
    },
    {
      "cell_type": "markdown",
      "source": [
        "## 4️⃣ 단순연결리스트 데이터삽입(첫번째)"
      ],
      "metadata": {
        "id": "NMaoi2qewaPu"
      }
    },
    {
      "cell_type": "code",
      "execution_count": 11,
      "metadata": {
        "id": "XI-wgHWMLgjm"
      },
      "outputs": [],
      "source": [
        "#📍 단순연결리스트 데이터삽입(첫번째)\n",
        "newNode = Node() # 새로운노드(객체)생성\n",
        "newNode.data = \"파주\" # 새로운노드 생성자주입\n",
        "\n",
        "newNode.link = head # 새로운노드 링크 -> 기존 Head에 연결\n",
        "head = newNode # 새로 Head 재지정"
      ]
    },
    {
      "cell_type": "code",
      "execution_count": 12,
      "metadata": {
        "id": "2cRfORi-Lgjm",
        "outputId": "ad3e8c74-374c-4330-a68a-a20e0e2a876a",
        "colab": {
          "base_uri": "https://localhost:8080/"
        }
      },
      "outputs": [
        {
          "output_type": "stream",
          "name": "stdout",
          "text": [
            "파주 서울 대구 포항 부산 "
          ]
        }
      ],
      "source": [
        "current = head\n",
        "print(current.data, end = ' ')\n",
        "while current.link != None:\n",
        "    current = current.link\n",
        "    print(current.data, end= ' ')"
      ]
    },
    {
      "cell_type": "markdown",
      "source": [
        "## 5️⃣ 단순연결리스트 데이터삽입(마지막)"
      ],
      "metadata": {
        "id": "c1OU2hbCwvpP"
      }
    },
    {
      "cell_type": "code",
      "execution_count": 13,
      "metadata": {
        "id": "t0auqNSTLgjn"
      },
      "outputs": [],
      "source": [
        "current = head\n",
        "while current.link != None:\n",
        "    current = current.link\n",
        "\n",
        "node = Node() # 새로운노드(객체)생성\n",
        "node.data = \"제주\" # 새로운노드 생성자주입\n",
        "current.link = node # 마지막노드링크 -> 새로운노드"
      ]
    },
    {
      "cell_type": "code",
      "execution_count": 14,
      "metadata": {
        "id": "h4h_lfuvLgjn",
        "outputId": "fa4fc514-c8a3-4f18-b19b-cf4fee2dace2",
        "colab": {
          "base_uri": "https://localhost:8080/"
        }
      },
      "outputs": [
        {
          "output_type": "stream",
          "name": "stdout",
          "text": [
            "파주 서울 대구 포항 부산 제주 "
          ]
        }
      ],
      "source": [
        "current = head\n",
        "print(current.data, end = ' ')\n",
        "while current.link != None:\n",
        "    current = current.link\n",
        "    print(current.data, end= ' ')"
      ]
    },
    {
      "cell_type": "markdown",
      "source": [
        "## 6️⃣ 단순연결리스트 데이터삭제(첫번째)"
      ],
      "metadata": {
        "id": "VvcfNUKPxHTi"
      }
    },
    {
      "cell_type": "code",
      "execution_count": 15,
      "metadata": {
        "id": "3a0d4K5VLgjn"
      },
      "outputs": [],
      "source": [
        "#📍 단순연결리스트 데이터삭제(첫번째)\n",
        "current = head # 동시에 가리킴\n",
        "head = head.link # 헤드 -> 두번째로 옮김\n",
        "del(current) # 첫번째 노드 삭제"
      ]
    },
    {
      "cell_type": "code",
      "execution_count": 16,
      "metadata": {
        "id": "I47V5QvmLgjo",
        "outputId": "620a21a7-3ba9-464d-d495-2c190badb941",
        "colab": {
          "base_uri": "https://localhost:8080/"
        }
      },
      "outputs": [
        {
          "output_type": "stream",
          "name": "stdout",
          "text": [
            "서울 대구 포항 부산 제주 "
          ]
        }
      ],
      "source": [
        "current = head\n",
        "print(current.data, end = ' ')\n",
        "while current.link != None:\n",
        "    current = current.link\n",
        "    print(current.data, end= ' ')"
      ]
    },
    {
      "cell_type": "code",
      "source": [
        "print(current.data)\n",
        "print(head.data)"
      ],
      "metadata": {
        "colab": {
          "base_uri": "https://localhost:8080/"
        },
        "id": "0WVsA9wj9eM1",
        "outputId": "62a47109-41e8-44ba-c57f-6dbd71e71e03"
      },
      "execution_count": 17,
      "outputs": [
        {
          "output_type": "stream",
          "name": "stdout",
          "text": [
            "제주\n",
            "서울\n"
          ]
        }
      ]
    },
    {
      "cell_type": "markdown",
      "metadata": {
        "id": "v3SD072QLgjo"
      },
      "source": [
        "## 7️⃣ 단순연결리스트 데이터삭제(첫번째노드외)"
      ]
    },
    {
      "cell_type": "code",
      "execution_count": 18,
      "metadata": {
        "id": "PBCIsvXwLgjo"
      },
      "outputs": [],
      "source": [
        "current = head"
      ]
    },
    {
      "cell_type": "code",
      "source": [
        "print(current.data)\n",
        "print(current.link)"
      ],
      "metadata": {
        "colab": {
          "base_uri": "https://localhost:8080/"
        },
        "id": "qh42SaEq9mOS",
        "outputId": "34704b26-129f-48b6-9b83-21058923e6a3"
      },
      "execution_count": 19,
      "outputs": [
        {
          "output_type": "stream",
          "name": "stdout",
          "text": [
            "서울\n",
            "<__main__.Node object at 0x7f841550aaa0>\n"
          ]
        }
      ]
    },
    {
      "cell_type": "code",
      "source": [
        "while current.link != None:\n",
        "    pre = current\n",
        "    current = current.link # 한칸씩 이동\n",
        "\n",
        "    if current.data == \"대구\": # 원하는 노드에 도착\n",
        "        pre.link = current.link # 이전과 이후 연결\n",
        "        del(current) # 삭제\n",
        "        break"
      ],
      "metadata": {
        "id": "bTC96Kky9Rzz"
      },
      "execution_count": 21,
      "outputs": []
    },
    {
      "cell_type": "code",
      "execution_count": 20,
      "metadata": {
        "id": "rQx7P20YLgjo",
        "outputId": "eab32fdd-1d3b-47f7-d912-406408f0d97e",
        "colab": {
          "base_uri": "https://localhost:8080/"
        }
      },
      "outputs": [
        {
          "output_type": "stream",
          "name": "stdout",
          "text": [
            "current =  <__main__.Node object at 0x7f841550a6e0>\n",
            "current =  <__main__.Node object at 0x7f841550a6e0>\n",
            "서울 대구 포항 부산 제주 "
          ]
        }
      ],
      "source": [
        "current = head\n",
        "print(\"current = \", current)\n",
        "print(\"current = \", current)\n",
        "print(current.data, end = ' ')\n",
        "while current.link != None: # current의 링크가 없을때까지 반복\n",
        "    current = current.link # 현재노드의 다음노드가 current로 지정\n",
        "    print(current.data, end= ' ') # current의 데이터 출력"
      ]
    },
    {
      "cell_type": "markdown",
      "source": [
        "## 8️⃣ 노드검색"
      ],
      "metadata": {
        "id": "qTtykJKMx_uM"
      }
    },
    {
      "cell_type": "code",
      "execution_count": null,
      "metadata": {
        "id": "ttL4C2rWLgjp"
      },
      "outputs": [],
      "source": [
        "current = head\n",
        "\n",
        "if current.data == '대구':\n",
        "    print(current.data)\n",
        "\n",
        "while current.link != None:\n",
        "    current = current.link\n",
        "    \n",
        "    if current.data == '대구':\n",
        "        print(current.data)"
      ]
    },
    {
      "cell_type": "markdown",
      "source": [
        "## 9️⃣ 단순연결리스트 함수구현"
      ],
      "metadata": {
        "id": "VCGnVhwvySmF"
      }
    },
    {
      "cell_type": "code",
      "execution_count": 22,
      "metadata": {
        "id": "ZBp_IIwPLgjp"
      },
      "outputs": [],
      "source": [
        "class Node() :\n",
        "\tdef __init__ (self) :\n",
        "\t\tself.data = None\n",
        "\t\tself.link = None\n",
        "\n",
        "def printNodes(start) :\n",
        "\tcurrent = start\n",
        "\tif current == None :\n",
        "\t\treturn\n",
        "\tprint(current.data, end = ' ')\n",
        "\twhile current.link != None:\n",
        "\t\tcurrent = current.link\n",
        "\t\tprint(current.data, end = ' ')\n",
        "\tprint()\n",
        "\n",
        "def insertNode(findData, insertData) :\n",
        "\tglobal memory, head, current, pre\n",
        "\tif head.data == findData : # 첫 번째 노드 삽입\n",
        "\t\tnode = Node()\n",
        "\t\tnode.data = insertData\n",
        "\t\tnode.link = head\n",
        "\t\thead = node\n",
        "\t\treturn\n",
        "\n",
        "\tcurrent = head\n",
        "\twhile current.link != None : # 중간 노드 삽입\n",
        "\t\tpre = current\n",
        "\t\tcurrent = current.link\n",
        "\t\tif current.data == findData :\n",
        "\t\t\tnode = Node()\n",
        "\t\t\tnode.data = insertData\n",
        "\t\t\tnode.link = current\n",
        "\t\t\tpre.link = node\n",
        "\t\t\treturn\n",
        "\n",
        "\tnode = Node() # 마지막 노드 삽입\n",
        "\tnode.data = insertData\n",
        "\tcurrent.link = node\n",
        "\n",
        "def findNode(findData) :\n",
        "\tglobal memory, head, current, pre\n",
        "\n",
        "\tcurrent = head\n",
        "\tif current.data == findData :\n",
        "\t\treturn current\n",
        "\twhile current.link != None :\n",
        "\t\tcurrent = current.link\n",
        "\t\tif current.data == findData :\n",
        "\t\t\treturn current\n",
        "\treturn Node()\t# 빈 노드 반환\n",
        "\n",
        "def deleteNode(deleteData) :\n",
        "\tglobal memory, head, current, pre\n",
        "\n",
        "\tif head.data == deleteData : # 첫 번째 노드 삭제\n",
        "\t\tcurrent = head\n",
        "\t\thead = head.link\n",
        "\t\tdel(current)\n",
        "\t\treturn\n",
        "\n",
        "\tcurrent = head # 첫 번째  외 노드 삭제\n",
        "\twhile current.link != None :\n",
        "\t\tpre = current\n",
        "\t\tcurrent = current.link\n",
        "\t\tif current.data == deleteData :\n",
        "\t\t\tpre.link = current.link\n",
        "\t\t\tdel(current)\n",
        "\t\t\treturn"
      ]
    },
    {
      "cell_type": "code",
      "execution_count": 23,
      "metadata": {
        "id": "8s7R92RSLgjp",
        "colab": {
          "base_uri": "https://localhost:8080/"
        },
        "outputId": "7ba3d469-ee93-4030-b291-fd28e680abc7"
      },
      "outputs": [
        {
          "output_type": "stream",
          "name": "stdout",
          "text": [
            "서울 대전 부산 \n",
            "파주 서울 천안 대전 부산 \n"
          ]
        }
      ],
      "source": [
        "head, current, pre = None, None, None\n",
        "memory = []\n",
        "dataArray = [\"서울\", \"대전\", \"부산\"]\n",
        "\n",
        "node = Node() # 첫 번째 노드\n",
        "node.data = dataArray[0]\n",
        "head = node\n",
        "memory.append(node)\n",
        "\n",
        "\n",
        "for data in dataArray[1:] : # 두 번째 노드부터\n",
        "    pre = node\n",
        "    node = Node()\n",
        "    node.data = data\n",
        "    pre.link = node\n",
        "    memory.append(node)\n",
        "\n",
        "\n",
        "printNodes(head)\n",
        "insertNode('대전','천안')\n",
        "insertNode('서울','파주')\n",
        "printNodes(head)"
      ]
    },
    {
      "cell_type": "code",
      "source": [
        "deleteNode('천안')\n",
        "printNodes(head)"
      ],
      "metadata": {
        "id": "USNNcxXdVvuS"
      },
      "execution_count": null,
      "outputs": []
    }
  ],
  "metadata": {
    "colab": {
      "provenance": [],
      "include_colab_link": true
    },
    "kernelspec": {
      "display_name": "Python 3",
      "name": "python3"
    },
    "language_info": {
      "codemirror_mode": {
        "name": "ipython",
        "version": 3
      },
      "file_extension": ".py",
      "mimetype": "text/x-python",
      "name": "python",
      "nbconvert_exporter": "python",
      "pygments_lexer": "ipython3",
      "version": "3.9.4"
    }
  },
  "nbformat": 4,
  "nbformat_minor": 0
}