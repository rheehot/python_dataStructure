{
  "cells": [
    {
      "cell_type": "markdown",
      "metadata": {
        "id": "view-in-github",
        "colab_type": "text"
      },
      "source": [
        "<a href=\"https://colab.research.google.com/github/sunyeon-Jeong/python_dataStructure/blob/main/python_dataStructure_5.ipynb\" target=\"_parent\"><img src=\"https://colab.research.google.com/assets/colab-badge.svg\" alt=\"Open In Colab\"/></a>"
      ]
    },
    {
      "cell_type": "markdown",
      "metadata": {
        "id": "_17Zhg4BXgzQ"
      },
      "source": [
        "# 스택(Stack)"
      ]
    },
    {
      "cell_type": "markdown",
      "source": [
        "## 1 스택구현"
      ],
      "metadata": {
        "id": "YO0lc2EThWm1"
      }
    },
    {
      "cell_type": "markdown",
      "source": [
        "### 1️⃣ 스택생성"
      ],
      "metadata": {
        "id": "G0TP8gCohYcR"
      }
    },
    {
      "cell_type": "code",
      "execution_count": 1,
      "metadata": {
        "id": "gJHLDQa3Xat-"
      },
      "outputs": [],
      "source": [
        "#📍 스택정의\n",
        "stack = [None, None, None] # 미리공간지정\n",
        "top = -1 # 최소값"
      ]
    },
    {
      "cell_type": "markdown",
      "metadata": {
        "id": "3KOQIqLRZaed"
      },
      "source": [
        "### 2️⃣ Push"
      ]
    },
    {
      "cell_type": "code",
      "execution_count": 2,
      "metadata": {
        "id": "lDjoQ5CQZcKM"
      },
      "outputs": [],
      "source": [
        "#📍 첫번째데이터\n",
        "top += 1 # push할때 반드시 top + 1\n",
        "stack[top] = \"cuk.edu\" # 데이터삽입\n",
        "\n",
        "#📍 두번째데이터\n",
        "top += 1\n",
        "stack[top] = \"naver.com\"\n",
        "\n",
        "#📍 세번째데이터\n",
        "top += 1\n",
        "stack[top] = \"google.com\""
      ]
    },
    {
      "cell_type": "code",
      "source": [
        "#📍 stack 출력\n",
        "for i in range(len(stack)-1, -1, -1):\n",
        "\tprint(stack[i])"
      ],
      "metadata": {
        "colab": {
          "base_uri": "https://localhost:8080/"
        },
        "id": "9aMChTxOh6KU",
        "outputId": "5d232179-9cad-4900-d142-457ee09d252d"
      },
      "execution_count": 3,
      "outputs": [
        {
          "output_type": "stream",
          "name": "stdout",
          "text": [
            "google.com\n",
            "naver.com\n",
            "cuk.edu\n"
          ]
        }
      ]
    },
    {
      "cell_type": "markdown",
      "source": [
        "### 3️⃣ Pop"
      ],
      "metadata": {
        "id": "iy976mV_iHAL"
      }
    },
    {
      "cell_type": "code",
      "source": [
        "#📍 top[2] pop\n",
        "data = stack[top] # 현재의 top에서 추출, top = 2\n",
        "stack[top] = None # pop된 데이터 -> None 처리\n",
        "top -= 1\n",
        "print(data)"
      ],
      "metadata": {
        "colab": {
          "base_uri": "https://localhost:8080/"
        },
        "id": "wakulp1niKxt",
        "outputId": "b09a86a0-4e6b-49d1-8ce0-6dfe03fbdec8"
      },
      "execution_count": 4,
      "outputs": [
        {
          "output_type": "stream",
          "name": "stdout",
          "text": [
            "google.com\n"
          ]
        }
      ]
    },
    {
      "cell_type": "code",
      "source": [
        "#📍 top[1] pop\n",
        "data = stack[top] # 현재의 top에서 추출, top = 1\n",
        "stack[top] = None # pop된 데이터 -> None 처리\n",
        "top -= 1\n",
        "print(data)"
      ],
      "metadata": {
        "colab": {
          "base_uri": "https://localhost:8080/"
        },
        "id": "mHuBljnaiVEj",
        "outputId": "3fe20c9e-b0f5-4708-d491-888e5330c911"
      },
      "execution_count": 5,
      "outputs": [
        {
          "output_type": "stream",
          "name": "stdout",
          "text": [
            "naver.com\n"
          ]
        }
      ]
    },
    {
      "cell_type": "code",
      "source": [
        "#📍 top[0] pop\n",
        "data = stack[top] # 현재의 top에서 추출, top = 0\n",
        "stack[top] = None # pop된 데이터 -> None 처리\n",
        "top -= 1\n",
        "print(data)"
      ],
      "metadata": {
        "colab": {
          "base_uri": "https://localhost:8080/"
        },
        "id": "dT_UG_DtiayA",
        "outputId": "7f4909be-9b60-401f-825b-0358e69479da"
      },
      "execution_count": 6,
      "outputs": [
        {
          "output_type": "stream",
          "name": "stdout",
          "text": [
            "cuk.edu\n"
          ]
        }
      ]
    },
    {
      "cell_type": "code",
      "source": [
        "#📍 stack 출력\n",
        "for i in range(len(stack)-1, -1, -1):\n",
        "\tprint(stack[i])"
      ],
      "metadata": {
        "colab": {
          "base_uri": "https://localhost:8080/"
        },
        "id": "Dh5zKW7gik6s",
        "outputId": "39f29d8c-28b3-46f6-9ac5-3867e725d100"
      },
      "execution_count": 7,
      "outputs": [
        {
          "output_type": "stream",
          "name": "stdout",
          "text": [
            "None\n",
            "None\n",
            "None\n"
          ]
        }
      ]
    },
    {
      "cell_type": "markdown",
      "source": [
        "## 2 스택초기화"
      ],
      "metadata": {
        "id": "6L6w0RqRio9j"
      }
    },
    {
      "cell_type": "code",
      "source": [
        "SIZE = 3 # 스택크기지정\n",
        "stack = [None for _ in range(SIZE)]\n",
        "top = -1"
      ],
      "metadata": {
        "id": "0j2Q8SRgiyBJ"
      },
      "execution_count": 8,
      "outputs": []
    },
    {
      "cell_type": "markdown",
      "source": [
        "## 3 스택함수구현"
      ],
      "metadata": {
        "id": "8_3BVHVxjHpk"
      }
    },
    {
      "cell_type": "markdown",
      "source": [
        "### 1️⃣ Push"
      ],
      "metadata": {
        "id": "u7I7RQwljKU_"
      }
    },
    {
      "cell_type": "code",
      "source": [
        "#📍 스택이 꽉 찼는지 확인하는 함수\n",
        "def isStackFull():\n",
        "    global SIZE,stack, top\n",
        "\n",
        "    if (top >= SIZE - 1):\n",
        "        return True # 스택꽉참\n",
        "    else:\n",
        "        return False # 스택여유"
      ],
      "metadata": {
        "id": "6DbcFMyyjMrx"
      },
      "execution_count": 9,
      "outputs": []
    },
    {
      "cell_type": "code",
      "source": [
        "#📍 데이터를 삽입하는 함수\n",
        "def push(data):\n",
        "    global SIZE, stack, top\n",
        "    \n",
        "    if (isStackFull()):\n",
        "        print(\"스택이 꽉 찼습니다.\")\n",
        "        return # 종료\n",
        "\n",
        "    top += 1\n",
        "    stack[top] = data"
      ],
      "metadata": {
        "id": "QvUu5dXxjiQi"
      },
      "execution_count": 10,
      "outputs": []
    },
    {
      "cell_type": "markdown",
      "source": [
        "### 2️⃣ Pop"
      ],
      "metadata": {
        "id": "nOJ6hgT2j1Je"
      }
    },
    {
      "cell_type": "code",
      "source": [
        "#📍 스택이 비었는지 확인하는 함수\n",
        "def isStackEmpty():\n",
        "    if (top == -1):\n",
        "        return True\n",
        "    else:\n",
        "        return False"
      ],
      "metadata": {
        "id": "t1xAq6Qkj3Tv"
      },
      "execution_count": 11,
      "outputs": []
    },
    {
      "cell_type": "code",
      "source": [
        "#📍 스택에서 데이터를 추출하는 함수\n",
        "def pop():\n",
        "    global SIZE, stack, top\n",
        "\n",
        "    if (isStackEmpty()):\n",
        "        print(\"스택이 비었습니다.\")\n",
        "        return None\n",
        "    \n",
        "    data = stack[top]\n",
        "    stack[top] = None\n",
        "    top -= 1\n",
        "    return data"
      ],
      "metadata": {
        "id": "n_biK_urkBFk"
      },
      "execution_count": 12,
      "outputs": []
    },
    {
      "cell_type": "markdown",
      "source": [
        "### 3️⃣ Peek : top 위치 데이터 확인만 하고 스택에 그대로 두는 것"
      ],
      "metadata": {
        "id": "5JNqIhwvkX8w"
      }
    },
    {
      "cell_type": "code",
      "source": [
        "def peek():\n",
        "\tglobal SIZE, stack, top\n",
        "\tif (isStackEmpty()) :\n",
        "\t\tprint(\"스택이 비었습니다.\")\n",
        "\t\treturn None\n",
        "\treturn stack[top]"
      ],
      "metadata": {
        "id": "WZZR6Io2kexO"
      },
      "execution_count": 13,
      "outputs": []
    },
    {
      "cell_type": "code",
      "source": [
        "print(pop())"
      ],
      "metadata": {
        "colab": {
          "base_uri": "https://localhost:8080/"
        },
        "id": "LjKt4RTNkqpB",
        "outputId": "48046f49-8803-4ba5-f190-429c6599d06f"
      },
      "execution_count": 14,
      "outputs": [
        {
          "output_type": "stream",
          "name": "stdout",
          "text": [
            "스택이 비었습니다.\n",
            "None\n"
          ]
        }
      ]
    }
  ],
  "metadata": {
    "colab": {
      "provenance": [],
      "include_colab_link": true
    },
    "kernelspec": {
      "display_name": "Python 3",
      "name": "python3"
    },
    "language_info": {
      "codemirror_mode": {
        "name": "ipython",
        "version": 3
      },
      "file_extension": ".py",
      "mimetype": "text/x-python",
      "name": "python",
      "nbconvert_exporter": "python",
      "pygments_lexer": "ipython3",
      "version": "3.9.4"
    }
  },
  "nbformat": 4,
  "nbformat_minor": 0
}