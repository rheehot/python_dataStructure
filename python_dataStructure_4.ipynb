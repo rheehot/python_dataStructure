{
  "cells": [
    {
      "cell_type": "markdown",
      "metadata": {
        "id": "view-in-github",
        "colab_type": "text"
      },
      "source": [
        "<a href=\"https://colab.research.google.com/github/sunyeon-Jeong/python_dataStructure/blob/main/python_dataStructure_4.ipynb\" target=\"_parent\"><img src=\"https://colab.research.google.com/assets/colab-badge.svg\" alt=\"Open In Colab\"/></a>"
      ]
    },
    {
      "cell_type": "markdown",
      "metadata": {
        "id": "_17Zhg4BXgzQ"
      },
      "source": [
        "# 원형연결리스트"
      ]
    },
    {
      "cell_type": "markdown",
      "source": [
        "## 1️⃣ 원형연결리스트 노드정의"
      ],
      "metadata": {
        "id": "dSc03wh3ACJc"
      }
    },
    {
      "cell_type": "code",
      "source": [
        "#📍 Node 데이터형정의를 위한 class 생성\n",
        "class Node():\n",
        "    def __init__(self): # 생성자\n",
        "        self.data = None # 데이터공간\n",
        "        self.link = None # 링크공간"
      ],
      "metadata": {
        "id": "X5Su5zHGAZ7R"
      },
      "execution_count": 63,
      "outputs": []
    },
    {
      "cell_type": "code",
      "source": [
        "#📍 첫번째노드\n",
        "node1 = Node()\n",
        "node1.data = \"서울\"\n",
        "head = node1\n",
        "node1.link = node1"
      ],
      "metadata": {
        "id": "p2hnRyy6AkXw"
      },
      "execution_count": 64,
      "outputs": []
    },
    {
      "cell_type": "code",
      "source": [
        "#📍 두번째노드\n",
        "node2 = Node()\n",
        "node2.data = \"대구\""
      ],
      "metadata": {
        "id": "hPRiiCmYAuGX"
      },
      "execution_count": 65,
      "outputs": []
    },
    {
      "cell_type": "code",
      "source": [
        "#📍 첫번째 두번째노드 연결\n",
        "node1.link = node2\n",
        "node2.link = node1"
      ],
      "metadata": {
        "id": "2mvla1GVAz5Q"
      },
      "execution_count": 66,
      "outputs": []
    },
    {
      "cell_type": "code",
      "source": [
        "#📍 세번째노드\n",
        "node3 = Node()\n",
        "node3.data = \"부산\""
      ],
      "metadata": {
        "id": "NzM3blyTA4Zj"
      },
      "execution_count": 67,
      "outputs": []
    },
    {
      "cell_type": "code",
      "source": [
        "#📍 노드 최종연결\n",
        "node2.link = node3\n",
        "node3.link = node1"
      ],
      "metadata": {
        "id": "BcEhWp1GA-qg"
      },
      "execution_count": 69,
      "outputs": []
    },
    {
      "cell_type": "code",
      "source": [
        "#📍 노드순회\n",
        "current = node1\n",
        "print(current.data, end = ' ')\n",
        "\n",
        "while current.link != node1:\n",
        "    current = current.link\n",
        "    print(current.data, end = ' ')"
      ],
      "metadata": {
        "colab": {
          "base_uri": "https://localhost:8080/"
        },
        "id": "fTPpi2SFBFF5",
        "outputId": "29362e27-084f-4e03-9eb8-23865a25d0f2"
      },
      "execution_count": 70,
      "outputs": [
        {
          "output_type": "stream",
          "name": "stdout",
          "text": [
            "서울 대구 부산 "
          ]
        }
      ]
    },
    {
      "cell_type": "markdown",
      "source": [
        "## 2️⃣ 원형연결리스트 데이터삽입(첫번째)"
      ],
      "metadata": {
        "id": "D8t8PZ6cBpCk"
      }
    },
    {
      "cell_type": "code",
      "source": [
        "#📍 새노드생성\n",
        "newNode = Node()\n",
        "newNode.link = head # 링크우선연결\n",
        "newNode.data = \"파주\""
      ],
      "metadata": {
        "id": "5Qo_PE1hEJJ0"
      },
      "execution_count": 71,
      "outputs": []
    },
    {
      "cell_type": "code",
      "source": [
        "#📍 Head 새노드로 지정하기\n",
        "last = head\n",
        "\n",
        "print(last.data, end = ' ')\n",
        "\n",
        "while last.link != head: # 마지막노드까지 반복\n",
        "    last = last.link # 한칸씩 이동\n",
        "        \n",
        "last.link = newNode # 마지막노드링크 -> 새노드지정\n",
        "head = newNode\n",
        "\n",
        "print(head.data, end= ' ')"
      ],
      "metadata": {
        "colab": {
          "base_uri": "https://localhost:8080/"
        },
        "id": "EnU68k_IGLxi",
        "outputId": "0d63ab7d-4941-4262-ef92-08c09802fe24"
      },
      "execution_count": 72,
      "outputs": [
        {
          "output_type": "stream",
          "name": "stdout",
          "text": [
            "서울 파주 "
          ]
        }
      ]
    },
    {
      "cell_type": "code",
      "source": [
        "#📍 출력하기\n",
        "current = head\n",
        "print(current.data, end = ' ')\n",
        "while current.link != head:\n",
        "    current = current.link\n",
        "    print(current.data, end = ' ')"
      ],
      "metadata": {
        "colab": {
          "base_uri": "https://localhost:8080/"
        },
        "id": "WvFBN4DmGinw",
        "outputId": "47e47ba1-99d8-4c8d-d500-7eab61f6c550"
      },
      "execution_count": 73,
      "outputs": [
        {
          "output_type": "stream",
          "name": "stdout",
          "text": [
            "파주 서울 대구 부산 "
          ]
        }
      ]
    },
    {
      "cell_type": "markdown",
      "source": [
        "## 3️⃣ 원형연결리스트 데이터삽입(중간)"
      ],
      "metadata": {
        "id": "9YSdAwXBGu8R"
      }
    },
    {
      "cell_type": "code",
      "source": [
        "#📍 데이터삽입(중간)\n",
        "current = head\n",
        "\n",
        "while current.link != head: \n",
        "    pre = current\n",
        "    current = current.link\n",
        "\n",
        "    if current.data == '부산':\n",
        "        node = Node()\n",
        "        node.data = '포항'\n",
        "        # 연결하기\n",
        "        node.link = current\n",
        "        pre.link = node"
      ],
      "metadata": {
        "id": "pJUQMOXBG1yf"
      },
      "execution_count": 74,
      "outputs": []
    },
    {
      "cell_type": "code",
      "source": [
        "#📍 출력하기\n",
        "current = head\n",
        "print(current.data, end = ' ')\n",
        "\n",
        "while current.link != head:\n",
        "    current = current.link\n",
        "    print(current.data, end= ' ')"
      ],
      "metadata": {
        "colab": {
          "base_uri": "https://localhost:8080/"
        },
        "id": "LGNIRglOIfOP",
        "outputId": "39552aba-0a89-48b8-8365-562a837470fe"
      },
      "execution_count": 78,
      "outputs": [
        {
          "output_type": "stream",
          "name": "stdout",
          "text": [
            "파주 서울 대구 포항 부산 "
          ]
        }
      ]
    },
    {
      "cell_type": "markdown",
      "source": [
        "## 4️⃣ 원형연결리스트 데이터삽입(마지막)"
      ],
      "metadata": {
        "id": "c7gS8C42JXH0"
      }
    },
    {
      "cell_type": "code",
      "source": [
        "#📍 데이터삽입(마지막)\n",
        "# current 마지막노드로 지정\n",
        "current = head\n",
        "\n",
        "while current.link != head:\n",
        "    current = current.link\n",
        "\n",
        "newNode = Node()\n",
        "newNode.data = \"제주\"\n",
        "\n",
        "current.link = newNode\n",
        "newNode.link = head"
      ],
      "metadata": {
        "id": "vKQ0od5iJeMa"
      },
      "execution_count": 79,
      "outputs": []
    },
    {
      "cell_type": "code",
      "source": [
        "#📍 출력하기\n",
        "current = head\n",
        "\n",
        "print(current.data, end = ' ')\n",
        "\n",
        "while current.link != head:\n",
        "    current = current.link\n",
        "    print(current.data, end= ' ')"
      ],
      "metadata": {
        "colab": {
          "base_uri": "https://localhost:8080/"
        },
        "id": "NosgcdQJJwfH",
        "outputId": "8081fe01-a31d-49ba-a82d-a9d089fe1dc1"
      },
      "execution_count": 80,
      "outputs": [
        {
          "output_type": "stream",
          "name": "stdout",
          "text": [
            "파주 서울 대구 포항 부산 제주 "
          ]
        }
      ]
    },
    {
      "cell_type": "markdown",
      "source": [
        "## 5️⃣ 원형연결리스트 데이터삭제(첫번째)"
      ],
      "metadata": {
        "id": "210EKbjEKJQF"
      }
    },
    {
      "cell_type": "code",
      "source": [
        "#📍 데이터삭제(첫번째)\n",
        "current = head\n",
        "\n",
        "head = head.link\n",
        "\n",
        "last = head\n",
        "\n",
        "while last.link != current:\n",
        "\tlast = last.link\n",
        "\n",
        "last.link = head\n",
        "del(current)"
      ],
      "metadata": {
        "id": "V1EUkhjKKNst"
      },
      "execution_count": 81,
      "outputs": []
    },
    {
      "cell_type": "code",
      "source": [
        "#📍 출력하기\n",
        "current = head\n",
        "print(current.data, end = ' ')\n",
        "\n",
        "while current.link != head:\n",
        "    current = current.link\n",
        "    print(current.data, end = ' ')"
      ],
      "metadata": {
        "colab": {
          "base_uri": "https://localhost:8080/"
        },
        "id": "aqrt01zkKY7l",
        "outputId": "52dafce0-229c-4ddb-9656-0409006f648d"
      },
      "execution_count": 83,
      "outputs": [
        {
          "output_type": "stream",
          "name": "stdout",
          "text": [
            "서울 대구 포항 부산 제주 "
          ]
        }
      ]
    },
    {
      "cell_type": "markdown",
      "source": [
        "## 6️⃣ 원형연결리스트 데이터삭제(첫번째노드외)"
      ],
      "metadata": {
        "id": "m5FkDQ7zKnJZ"
      }
    },
    {
      "cell_type": "code",
      "source": [
        "#📍 데이터삭제(첫번째노드외)\n",
        "current = head\n",
        "\n",
        "while current.link != head:\n",
        "    pre = current\n",
        "    current = current.link\n",
        "    if current.data == \"대구\":\n",
        "        pre.link = current.link\n",
        "        del(current)"
      ],
      "metadata": {
        "id": "87SbHZ0KKsul"
      },
      "execution_count": 85,
      "outputs": []
    },
    {
      "cell_type": "code",
      "source": [
        "#📍 출력하기\n",
        "current = head\n",
        "print(current.data, end = ' ')\n",
        "while current.link != head:\n",
        "    current = current.link\n",
        "    print(current.data, end= ' ')"
      ],
      "metadata": {
        "colab": {
          "base_uri": "https://localhost:8080/"
        },
        "id": "OQU8OWroK-qn",
        "outputId": "477f2b72-015a-4ef3-e45c-97e5ffe90fda"
      },
      "execution_count": 86,
      "outputs": [
        {
          "output_type": "stream",
          "name": "stdout",
          "text": [
            "서울 포항 부산 제주 "
          ]
        }
      ]
    },
    {
      "cell_type": "markdown",
      "source": [
        "## 7️⃣ 노드검색"
      ],
      "metadata": {
        "id": "gGfU1n6WLG_l"
      }
    },
    {
      "cell_type": "code",
      "source": [
        "current = head\n",
        "\n",
        "if current.data == '부산':\n",
        "    print(current.data)\n",
        "\n",
        "while current.link != head:\n",
        "    current = current.link\n",
        "    \n",
        "    if current.data == '부산':\n",
        "        print(current.data)"
      ],
      "metadata": {
        "colab": {
          "base_uri": "https://localhost:8080/"
        },
        "id": "tmG6ZqINLI4S",
        "outputId": "0c22be8d-688e-4a00-9b9b-085c55ca9fd2"
      },
      "execution_count": 87,
      "outputs": [
        {
          "output_type": "stream",
          "name": "stdout",
          "text": [
            "부산\n"
          ]
        }
      ]
    },
    {
      "cell_type": "markdown",
      "source": [
        "## 8️⃣ 원형연결리스트 함수구현"
      ],
      "metadata": {
        "id": "D7kDsDh6Ll_V"
      }
    },
    {
      "cell_type": "code",
      "source": [
        "del(head)\n",
        "del(current)\n",
        "del(pre)"
      ],
      "metadata": {
        "id": "n7Nugs-GLpEC"
      },
      "execution_count": 88,
      "outputs": []
    },
    {
      "cell_type": "code",
      "source": [
        "class Node() :\n",
        "\tdef __init__ (self) :\n",
        "\t\tself.data = None\n",
        "\t\tself.link = None\n",
        "\n",
        "def printNodes(start):\n",
        "\tcurrent = start\n",
        "\tif current.link == None:\n",
        "\t\treturn\n",
        "\tprint(current.data, end=' ')\n",
        "\twhile current.link != start:\n",
        "\t\tcurrent = current.link\n",
        "\t\tprint(current.data, end=' ')\n",
        "\tprint()\n",
        "\n",
        "def insertNode(findData, insertData):\n",
        "\tglobal memory, head, current, pre\n",
        "\n",
        "\tif head.data == findData: # 첫 번째 노드 삽입\n",
        "\t\tnode = Node()\n",
        "\t\tnode.data = insertData\n",
        "\t\tnode.link = head\n",
        "\t\tlast = head\t# 마지막 노드를 첫 번째 노드로 우선 지정\n",
        "\t\twhile last.link != head: # 마지막 노드를 찾으면 반복 종료\n",
        "\t\t\tlast = last.link # last를 다음 노드로 변경\n",
        "\t\tlast.link = node # 마지막 노드의 링크에 새 노드 지정\n",
        "\t\thead = node\n",
        "\t\treturn\n",
        "\n",
        "\tcurrent = head\n",
        "\twhile current.link != head: # 중간 노드 삽입\n",
        "\t\tpre = current\n",
        "\t\tcurrent = current.link\n",
        "\t\tif current.data == findData:\n",
        "\t\t\tnode = Node()\n",
        "\t\t\tnode.data = insertData\n",
        "\t\t\tnode.link = current\n",
        "\t\t\tpre.link = node\n",
        "\t\t\treturn\n",
        "\n",
        "\tnode = Node() # 마지막 노드 삽입\n",
        "\tnode.data = insertData\n",
        "\tcurrent.link = node\n",
        "\tnode.link = head\n",
        "\n",
        "def findNode(findData):\n",
        "\tglobal memory, head, current, pre\n",
        "\n",
        "\tcurrent = head\n",
        "\tif current.data == findData:\n",
        "\t\treturn current\n",
        "\twhile current.link != head:\n",
        "\t\tcurrent = current.link\n",
        "\t\tif current.data == findData:\n",
        "\t\t\treturn current\n",
        "\treturn Node() # 빈 노드 반환\n",
        "\n",
        "def deleteNode(deleteData):\n",
        "\tglobal memory, head, current, pre\n",
        "\n",
        "\tif head.data == deleteData: # 첫 번째 노드 삭제\n",
        "\t\tcurrent = head\n",
        "\t\thead = head.link\n",
        "\t\tdel(current)\n",
        "\t\treturn\n",
        "\n",
        "\tcurrent = head # 첫 번째 외 노드 삭제\n",
        "\twhile current.link != head:\n",
        "\t\tpre = current\n",
        "\t\tcurrent = current.link\n",
        "\t\tif current.data == deleteData:\n",
        "\t\t\tpre.link = current.link\n",
        "\t\t\tdel(current)\n",
        "\t\t\treturn"
      ],
      "metadata": {
        "id": "FUQRxda8LslQ"
      },
      "execution_count": 89,
      "outputs": []
    },
    {
      "cell_type": "code",
      "source": [
        "head, current, pre = None, None, None\n",
        "memory = []\n",
        "dataArray = [\"서울\", \"대전\", \"부산\"]\n",
        "\n",
        "node = Node() # 첫 번째 노드\n",
        "node.data = dataArray[0]\n",
        "head = node\n",
        "node.link = head\n",
        "memory.append(node)\n",
        "\n",
        "for data in dataArray[1:]: # 두 번째 노드부터\n",
        "    pre = node\n",
        "    node = Node()\n",
        "    node.data = data\n",
        "    pre.link = node\n",
        "    node.link = head\n",
        "    memory.append(node)\n",
        "\n",
        "printNodes(head)\n",
        "findNode('대전')\n",
        "insertNode('대전','천안')\n",
        "insertNode('서울','파주')\n",
        "printNodes(head)\n",
        "deleteNode('서울')"
      ],
      "metadata": {
        "colab": {
          "base_uri": "https://localhost:8080/"
        },
        "id": "DfUjwgqYMDRs",
        "outputId": "98ac9bcf-6e9a-4ece-e2e9-319929f72a8f"
      },
      "execution_count": 90,
      "outputs": [
        {
          "output_type": "stream",
          "name": "stdout",
          "text": [
            "서울 대전 부산 \n",
            "파주 서울 천안 대전 부산 \n"
          ]
        }
      ]
    }
  ],
  "metadata": {
    "colab": {
      "provenance": [],
      "include_colab_link": true
    },
    "kernelspec": {
      "display_name": "Python 3",
      "name": "python3"
    },
    "language_info": {
      "codemirror_mode": {
        "name": "ipython",
        "version": 3
      },
      "file_extension": ".py",
      "mimetype": "text/x-python",
      "name": "python",
      "nbconvert_exporter": "python",
      "pygments_lexer": "ipython3",
      "version": "3.9.4"
    }
  },
  "nbformat": 4,
  "nbformat_minor": 0
}